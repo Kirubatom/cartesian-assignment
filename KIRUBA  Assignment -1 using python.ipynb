{
 "cells": [
  {
   "cell_type": "markdown",
   "id": "8b6f1477",
   "metadata": {},
   "source": [
    "<H2>ASSIGNMENT-1 USING  PYTHON<H2>\n",
    "    \n"
   ]
  },
  {
   "cell_type": "markdown",
   "id": "62ccf0d9",
   "metadata": {},
   "source": [
    "<H4>The problem Statement The program takes input a short abstract and outputs the following\n",
    "• prints each word in reverse.\n",
    "• prints Top 2 occurring words in sorted order. The words that have occurred most of the time\n",
    "\n"
   ]
  },
  {
   "cell_type": "code",
   "execution_count": 3,
   "id": "0dbc93f5",
   "metadata": {},
   "outputs": [
    {
     "name": "stdout",
     "output_type": "stream",
     "text": [
      "This declaration represents a political commitment among declaration partners to advance a positive vision for the Internet in this era of a united europe\n",
      "Printing word in reverse:\n",
      "\n",
      "Europe united a of era this in internet the for vision positive a advance to partners declaration among commitment political a represents declaration this\n",
      "\n",
      "Occurrence of words:\n",
      "\n",
      "a : 3 times\n",
      "this : 2 times\n"
     ]
    }
   ],
   "source": [
    "from statistics import mode\n",
    "M = input().lower().split(' ')\n",
    "M.reverse()\n",
    "M[0] = M[0].capitalize()\n",
    "print('Printing word in reverse:')\n",
    "print()\n",
    "print(*M)\n",
    "print()\n",
    "print('Occurrence of words:')\n",
    "print()\n",
    "temp = [wrd for sub in M for wrd in sub.split()]\n",
    "print(mode(temp),':',str(M.count(mode(temp))),'times')\n",
    "temp = [i for i in temp if i != mode(temp)]\n",
    "print(mode(temp),':',str(M.count(mode(temp))),'times')"
   ]
  }
 ],
 "metadata": {
  "kernelspec": {
   "display_name": "Python 3 (ipykernel)",
   "language": "python",
   "name": "python3"
  },
  "language_info": {
   "codemirror_mode": {
    "name": "ipython",
    "version": 3
   },
   "file_extension": ".py",
   "mimetype": "text/x-python",
   "name": "python",
   "nbconvert_exporter": "python",
   "pygments_lexer": "ipython3",
   "version": "3.9.7"
  }
 },
 "nbformat": 4,
 "nbformat_minor": 5
}
